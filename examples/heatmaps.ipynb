{
  "cells": [
    {
      "cell_type": "markdown",
      "metadata": {
        "id": "view-in-github",
        "colab_type": "text"
      },
      "source": [
        "<a href=\"https://colab.research.google.com/github/KorkanaRahul/NO-PARKING-ZONE-MONITORING-MODLE/blob/main/examples/heatmaps.ipynb\" target=\"_parent\"><img src=\"https://colab.research.google.com/assets/colab-badge.svg\" alt=\"Open In Colab\"/></a>"
      ]
    },
    {
      "cell_type": "markdown",
      "metadata": {
        "id": "PN1cAxdvd61e"
      },
      "source": [
        "<div align=\"center\">\n",
        "\n",
        "  <a href=\"https://ultralytics.com/yolo\" target=\"_blank\">\n",
        "    <img width=\"1024\", src=\"https://raw.githubusercontent.com/ultralytics/assets/main/yolov8/banner-yolov8.png\"></a>\n",
        "\n",
        "  [中文](https://docs.ultralytics.com/zh/) | [한국어](https://docs.ultralytics.com/ko/) | [日本語](https://docs.ultralytics.com/ja/) | [Русский](https://docs.ultralytics.com/ru/) | [Deutsch](https://docs.ultralytics.com/de/) | [Français](https://docs.ultralytics.com/fr/) | [Español](https://docs.ultralytics.com/es/) | [Português](https://docs.ultralytics.com/pt/) | [Türkçe](https://docs.ultralytics.com/tr/) | [Tiếng Việt](https://docs.ultralytics.com/vi/) | [العربية](https://docs.ultralytics.com/ar/)\n",
        "\n",
        "  <a href=\"https://github.com/ultralytics/ultralytics/actions/workflows/ci.yml\"><img src=\"https://github.com/ultralytics/ultralytics/actions/workflows/ci.yml/badge.svg\" alt=\"Ultralytics CI\"></a>\n",
        "  <a href=\"https://console.paperspace.com/github/ultralytics/ultralytics\"><img src=\"https://assets.paperspace.io/img/gradient-badge.svg\" alt=\"Run on Gradient\"/></a>\n",
        "  <a href=\"https://colab.research.google.com/github/ultralytics/ultralytics/blob/main/examples/heatmaps.ipynb\"><img src=\"https://colab.research.google.com/assets/colab-badge.svg\" alt=\"Open In Colab\"></a>\n",
        "  <a href=\"https://www.kaggle.com/models/ultralytics/yolo11\"><img src=\"https://kaggle.com/static/images/open-in-kaggle.svg\" alt=\"Open In Kaggle\"></a>\n",
        "  <a href=\"https://ultralytics.com/discord\"><img alt=\"Discord\" src=\"https://img.shields.io/discord/1089800235347353640?logo=discord&logoColor=white&label=Discord&color=blue\"></a>\n",
        "\n",
        "Welcome to the Ultralytics YOLO11 🚀 notebook! <a href=\"https://github.com/ultralytics/ultralytics\">YOLO11</a> is the latest version of the YOLO (You Only Look Once) AI models developed by <a href=\"https://ultralytics.com\">Ultralytics</a>. This notebook serves as the starting point for exploring the various resources available to help you get started with YOLO11 and understand its features and capabilities.\n",
        "\n",
        "YOLO11 models are fast, accurate, and easy to use, making them ideal for various object detection and image segmentation tasks. They can be trained on large datasets and run on diverse hardware platforms, from CPUs to GPUs.\n",
        "\n",
        "We hope that the resources in this notebook will help you get the most out of YOLO11. Please browse the YOLO11 <a href=\"https://docs.ultralytics.com/guides/heatmaps\">Heatmap Docs</a> for details, raise an issue on <a href=\"https://github.com/ultralytics/ultralytics\">GitHub</a> for support, and join our <a href=\"https://ultralytics.com/discord\">Discord</a> community for questions and discussions!\n",
        "\n",
        "</div>"
      ]
    },
    {
      "cell_type": "markdown",
      "metadata": {
        "id": "o68Sg1oOeZm2"
      },
      "source": [
        "# Setup\n",
        "\n",
        "pip install `ultralytics` and [dependencies](https://github.com/ultralytics/ultralytics/blob/main/pyproject.toml) and check software and hardware.\n",
        "\n",
        "[![PyPI - Version](https://img.shields.io/pypi/v/ultralytics?logo=pypi&logoColor=white)](https://pypi.org/project/ultralytics/) [![Downloads](https://static.pepy.tech/badge/ultralytics)](https://www.pepy.tech/projects/ultralytics) [![PyPI - Python Version](https://img.shields.io/pypi/pyversions/ultralytics?logo=python&logoColor=gold)](https://pypi.org/project/ultralytics/)"
      ]
    },
    {
      "cell_type": "code",
      "execution_count": 1,
      "metadata": {
        "colab": {
          "base_uri": "https://localhost:8080/"
        },
        "id": "9dSwz_uOReMI",
        "outputId": "e542630a-6aff-497f-b702-3bad6548a710"
      },
      "outputs": [
        {
          "output_type": "stream",
          "name": "stdout",
          "text": [
            "Ultralytics 8.3.175 🚀 Python-3.11.13 torch-2.6.0+cu124 CUDA:0 (Tesla T4, 15095MiB)\n",
            "Setup complete ✅ (2 CPUs, 12.7 GB RAM, 43.1/112.6 GB disk)\n"
          ]
        }
      ],
      "source": [
        "%pip install ultralytics\n",
        "import ultralytics\n",
        "\n",
        "ultralytics.checks()"
      ]
    },
    {
      "cell_type": "markdown",
      "metadata": {
        "id": "m7VkxQ2aeg7k"
      },
      "source": [
        "# Introduction to Heatmaps\n",
        "\n",
        "A heatmap generated with [Ultralytics YOLO11](https://github.com/ultralytics/ultralytics/) transforms complex data into a vibrant, color-coded matrix. This visual tool employs a spectrum of colors to represent varying data values, where warmer hues indicate higher intensities and cooler tones signify lower values. Heatmaps excel in visualizing intricate data patterns, correlations, and anomalies, offering an accessible and engaging approach to data interpretation across diverse domains.\n",
        "\n",
        "## Real World Applications\n",
        "\n",
        "|                                                                 Transportation                                                                  |                                                                 Retail                                                                  |\n",
        "|:-----------------------------------------------------------------------------------------------------------------------------------------------:|:---------------------------------------------------------------------------------------------------------------------------------------:|\n",
        "| ![Ultralytics YOLO11 Transportation Heatmap](https://github.com/RizwanMunawar/ultralytics/assets/62513924/288d7053-622b-4452-b4e4-1f41aeb764aa) | ![Ultralytics YOLO11 Retail Heatmap](https://github.com/RizwanMunawar/ultralytics/assets/62513924/edef75ad-50a7-4c0a-be4a-a66cdfc12802) |\n",
        "|                                                    Ultralytics YOLO11 Transportation Heatmap                                                    |                                                    Ultralytics YOLO11 Retail Heatmap                                                    |\n"
      ]
    },
    {
      "cell_type": "code",
      "execution_count": null,
      "metadata": {
        "id": "Cx-u59HQdu2o"
      },
      "outputs": [],
      "source": [
        "import cv2\n",
        "\n",
        "from ultralytics import solutions\n",
        "\n",
        "# Open video file\n",
        "cap = cv2.VideoCapture(\"/content/2103099-uhd_3840_2160_30fps.mp4\")\n",
        "assert cap.isOpened(), \"Error reading video file\"\n",
        "\n",
        "# Get video properties\n",
        "w, h, fps = (int(cap.get(x)) for x in (cv2.CAP_PROP_FRAME_WIDTH, cv2.CAP_PROP_FRAME_HEIGHT, cv2.CAP_PROP_FPS))\n",
        "\n",
        "# Initialize video writer\n",
        "video_writer = cv2.VideoWriter(\"heatmap_output.avi\", cv2.VideoWriter_fourcc(*\"mp4v\"), fps, (w, h))\n",
        "\n",
        "# Initialize heatmap object\n",
        "heatmap_obj = solutions.Heatmap(\n",
        "    colormap=cv2.COLORMAP_PARULA,  # Color of the heatmap\n",
        "    show=True,  # Display the image during processing\n",
        "    model=\"yolov8n.pt\",  # Ultralytics YOLO11 model file\n",
        ")\n",
        "\n",
        "while cap.isOpened():\n",
        "    success, im0 = cap.read()\n",
        "    if not success:\n",
        "        print(\"Video frame is empty or video processing has been successfully completed.\")\n",
        "        break\n",
        "\n",
        "    # Generate heatmap on the frame\n",
        "    results = heatmap_obj(im0)\n",
        "\n",
        "    # Write the frame to the output video\n",
        "    video_writer.write(results.plot_im)\n",
        "\n",
        "# Release resources\n",
        "cap.release()\n",
        "video_writer.release()\n",
        "cv2.destroyAllWindows()"
      ]
    },
    {
      "cell_type": "code",
      "source": [
        "import cv2\n",
        "import os\n",
        "from ultralytics import solutions\n",
        "\n",
        "# Define the directory containing your images and the output directory\n",
        "image_directory = \"/content/drive/MyDrive/test_accident\"  # Replace with the path to your image directory\n",
        "output_directory = \"/content/heatmap_output_images2\" # Replace with your desired output directory\n",
        "\n",
        "# Create the output directory if it doesn't exist\n",
        "os.makedirs(output_directory, exist_ok=True)\n",
        "\n",
        "# Initialize heatmap object with your trained model and classes\n",
        "# Replace \"path/to/your/model.pt\" with the actual path to your trained model\n",
        "# Replace [0, 1, 2] with the list of class IDs you want to include in the heatmap\n",
        "heatmap_obj = solutions.Heatmap(\n",
        "    colormap=cv2.COLORMAP_PARULA,  # Color of the heatmap\n",
        "    show=True,  # Display the image during processing\n",
        "    model=\"/content/drive/MyDrive/vehicle_accident/runs2/train/weights/best.pt\",  # Your Ultralytics YOLO11 model file\n",
        "    classes=[0, 1, 2] # List of class IDs to include in the heatmap\n",
        ")\n",
        "\n",
        "# Get list of image files\n",
        "image_files = [f for f in os.listdir(image_directory) if f.lower().endswith(('.png', '.jpg', '.jpeg'))]\n",
        "\n",
        "# Process each image\n",
        "for image_file in image_files:\n",
        "    image_path = os.path.join(image_directory, image_file)\n",
        "    im0 = cv2.imread(image_path)\n",
        "    assert im0 is not None, f\"Error reading image file: {image_path}\"\n",
        "    im0 = cv2.resize(im0, (640, 640))\n",
        "\n",
        "    if im0 is None:\n",
        "        print(f\"Error reading image file: {image_path}\")\n",
        "        continue\n",
        "\n",
        "    print(f\"Processing image : {image_file}\")\n",
        "\n",
        "    # Generate heatmap on the frame\n",
        "    try:\n",
        "        results = heatmap_obj(im0)\n",
        "    except Exception as e:\n",
        "        print(f\"Error processing image {image_file}: {e}\")\n",
        "\n",
        "    # Define output path for the heatmap image\n",
        "    output_path = os.path.join(output_directory, f\"heatmap_{image_file}\")\n",
        "\n",
        "    # Save the frame with heatmap\n",
        "    cv2.imwrite(output_path, results.plot_im)\n",
        "    print(f\"Heatmap saved to: {output_path}\")\n",
        "\n",
        "print(\"Image processing has been successfully completed.\")"
      ],
      "metadata": {
        "colab": {
          "base_uri": "https://localhost:8080/"
        },
        "id": "_D7Q_dxrdRnJ",
        "outputId": "1d4bd009-1b73-4a02-bd8c-ee187905bb2c"
      },
      "execution_count": 13,
      "outputs": [
        {
          "output_type": "stream",
          "name": "stdout",
          "text": [
            "Ultralytics Solutions: ✅ {'source': None, 'model': '/content/drive/MyDrive/vehicle_accident/runs2/train/weights/best.pt', 'classes': [0, 1, 2], 'show_conf': True, 'show_labels': True, 'region': None, 'colormap': 12, 'show_in': True, 'show_out': True, 'up_angle': 145.0, 'down_angle': 90, 'kpts': [6, 8, 10], 'analytics_type': 'line', 'figsize': (12.8, 7.2), 'blur_ratio': 0.5, 'vision_point': (20, 20), 'crop_dir': 'cropped-detections', 'json_file': None, 'line_width': 2, 'records': 5, 'fps': 30.0, 'max_hist': 5, 'meter_per_pixel': 0.05, 'max_speed': 120, 'show': True, 'iou': 0.7, 'conf': 0.25, 'device': None, 'max_det': 300, 'half': False, 'tracker': 'botsort.yaml', 'verbose': True, 'data': 'images'}\n",
            "Processing image : images.jpg\n",
            "0: 640x640 20.2ms, 1 accident\n",
            "Speed: 130.7ms track, 20.2ms solution per image at shape (1, 3, 640, 640)\n",
            "\n",
            "Heatmap saved to: /content/heatmap_output_images2/heatmap_images.jpg\n",
            "Processing image : img.jpg\n",
            "1: 640x640 10.4ms, 1 accident\n",
            "Speed: 79.3ms track, 10.4ms solution per image at shape (1, 3, 640, 640)\n",
            "\n",
            "Heatmap saved to: /content/heatmap_output_images2/heatmap_img.jpg\n",
            "Processing image : images (1).jpg\n",
            "2: 640x640 11.3ms, 1 accident\n",
            "Speed: 82.2ms track, 11.3ms solution per image at shape (1, 3, 640, 640)\n",
            "\n",
            "Heatmap saved to: /content/heatmap_output_images2/heatmap_images (1).jpg\n",
            "Processing image : 1200-675-24294418-2-24294418-1748856058591.jpg\n",
            "WARNING ⚠️ no tracks found!\n",
            "3: 640x640 0.8ms, \n",
            "Speed: 97.3ms track, 0.8ms solution per image at shape (1, 3, 640, 640)\n",
            "\n",
            "Heatmap saved to: /content/heatmap_output_images2/heatmap_1200-675-24294418-2-24294418-1748856058591.jpg\n",
            "Processing image : images (2).jpg\n",
            "4: 640x640 13.7ms, 1 accident\n",
            "Speed: 78.9ms track, 13.7ms solution per image at shape (1, 3, 640, 640)\n",
            "\n",
            "Heatmap saved to: /content/heatmap_output_images2/heatmap_images (2).jpg\n",
            "Processing image : images (3).jpg\n",
            "5: 640x640 7.0ms, 1 accident\n",
            "Speed: 77.6ms track, 7.0ms solution per image at shape (1, 3, 640, 640)\n",
            "\n",
            "Heatmap saved to: /content/heatmap_output_images2/heatmap_images (3).jpg\n",
            "Processing image : images (4).jpg\n",
            "6: 640x640 9.6ms, 1 accident\n",
            "Speed: 93.8ms track, 9.6ms solution per image at shape (1, 3, 640, 640)\n",
            "\n",
            "Heatmap saved to: /content/heatmap_output_images2/heatmap_images (4).jpg\n",
            "Processing image : images (5).jpg\n",
            "7: 640x640 15.3ms, 1 accident\n",
            "Speed: 86.4ms track, 15.3ms solution per image at shape (1, 3, 640, 640)\n",
            "\n",
            "Heatmap saved to: /content/heatmap_output_images2/heatmap_images (5).jpg\n",
            "Processing image : images (6).jpg\n",
            "8: 640x640 15.2ms, 1 accident\n",
            "Speed: 69.6ms track, 15.2ms solution per image at shape (1, 3, 640, 640)\n",
            "\n",
            "Heatmap saved to: /content/heatmap_output_images2/heatmap_images (6).jpg\n",
            "Processing image : images (7).jpg\n",
            "WARNING ⚠️ no tracks found!\n",
            "9: 640x640 0.7ms, \n",
            "Speed: 52.9ms track, 0.7ms solution per image at shape (1, 3, 640, 640)\n",
            "\n",
            "Heatmap saved to: /content/heatmap_output_images2/heatmap_images (7).jpg\n",
            "Processing image : images (8).jpg\n",
            "10: 640x640 5.0ms, 1 injured_human\n",
            "Speed: 46.8ms track, 5.0ms solution per image at shape (1, 3, 640, 640)\n",
            "\n",
            "Heatmap saved to: /content/heatmap_output_images2/heatmap_images (8).jpg\n",
            "Processing image : images (9).jpg\n",
            "WARNING ⚠️ no tracks found!\n",
            "11: 640x640 0.7ms, \n",
            "Speed: 66.4ms track, 0.7ms solution per image at shape (1, 3, 640, 640)\n",
            "\n",
            "Heatmap saved to: /content/heatmap_output_images2/heatmap_images (9).jpg\n",
            "Processing image : images (10).jpg\n",
            "12: 640x640 14.8ms, 1 accident\n",
            "Speed: 62.0ms track, 14.8ms solution per image at shape (1, 3, 640, 640)\n",
            "\n",
            "Heatmap saved to: /content/heatmap_output_images2/heatmap_images (10).jpg\n",
            "Processing image : images (11).jpg\n",
            "13: 640x640 15.5ms, 1 accident\n",
            "Speed: 71.1ms track, 15.5ms solution per image at shape (1, 3, 640, 640)\n",
            "\n",
            "Heatmap saved to: /content/heatmap_output_images2/heatmap_images (11).jpg\n",
            "Processing image : images (12).jpg\n",
            "WARNING ⚠️ no tracks found!\n",
            "14: 640x640 0.7ms, \n",
            "Speed: 82.4ms track, 0.7ms solution per image at shape (1, 3, 640, 640)\n",
            "\n",
            "Heatmap saved to: /content/heatmap_output_images2/heatmap_images (12).jpg\n",
            "Processing image : images (13).jpg\n",
            "WARNING ⚠️ no tracks found!\n",
            "15: 640x640 0.8ms, \n",
            "Speed: 79.7ms track, 0.8ms solution per image at shape (1, 3, 640, 640)\n",
            "\n",
            "Heatmap saved to: /content/heatmap_output_images2/heatmap_images (13).jpg\n",
            "Processing image : images (14).jpg\n",
            "WARNING ⚠️ no tracks found!\n",
            "16: 640x640 0.7ms, \n",
            "Speed: 71.5ms track, 0.7ms solution per image at shape (1, 3, 640, 640)\n",
            "\n",
            "Heatmap saved to: /content/heatmap_output_images2/heatmap_images (14).jpg\n",
            "Processing image : gettyimages-1192840113-612x612.jpg\n",
            "WARNING ⚠️ no tracks found!\n",
            "17: 640x640 0.8ms, \n",
            "Speed: 69.9ms track, 0.8ms solution per image at shape (1, 3, 640, 640)\n",
            "\n",
            "Heatmap saved to: /content/heatmap_output_images2/heatmap_gettyimages-1192840113-612x612.jpg\n",
            "Processing image : images (15).jpg\n",
            "WARNING ⚠️ no tracks found!\n",
            "18: 640x640 1.0ms, \n",
            "Speed: 90.0ms track, 1.0ms solution per image at shape (1, 3, 640, 640)\n",
            "\n",
            "Heatmap saved to: /content/heatmap_output_images2/heatmap_images (15).jpg\n",
            "Processing image : images (16).jpg\n",
            "WARNING ⚠️ no tracks found!\n",
            "19: 640x640 0.8ms, \n",
            "Speed: 76.6ms track, 0.8ms solution per image at shape (1, 3, 640, 640)\n",
            "\n",
            "Heatmap saved to: /content/heatmap_output_images2/heatmap_images (16).jpg\n",
            "Processing image : istockphoto-182885352-612x612.jpg\n",
            "20: 640x640 16.3ms, 1 injured_human\n",
            "Speed: 82.6ms track, 16.3ms solution per image at shape (1, 3, 640, 640)\n",
            "\n",
            "Heatmap saved to: /content/heatmap_output_images2/heatmap_istockphoto-182885352-612x612.jpg\n",
            "Processing image : images (17).jpg\n",
            "21: 640x640 9.0ms, 1 accident\n",
            "Speed: 64.5ms track, 9.0ms solution per image at shape (1, 3, 640, 640)\n",
            "\n",
            "Heatmap saved to: /content/heatmap_output_images2/heatmap_images (17).jpg\n",
            "Processing image : images (18).jpg\n",
            "22: 640x640 12.4ms, 1 accident\n",
            "Speed: 63.6ms track, 12.4ms solution per image at shape (1, 3, 640, 640)\n",
            "\n",
            "Heatmap saved to: /content/heatmap_output_images2/heatmap_images (18).jpg\n",
            "Processing image : images (19).jpg\n",
            "23: 640x640 14.9ms, 1 accident\n",
            "Speed: 36.2ms track, 14.9ms solution per image at shape (1, 3, 640, 640)\n",
            "\n",
            "Heatmap saved to: /content/heatmap_output_images2/heatmap_images (19).jpg\n",
            "Processing image : download.jpg\n",
            "24: 640x640 14.4ms, 1 accident\n",
            "Speed: 65.6ms track, 14.4ms solution per image at shape (1, 3, 640, 640)\n",
            "\n",
            "Heatmap saved to: /content/heatmap_output_images2/heatmap_download.jpg\n",
            "Processing image : download (1).jpg\n",
            "25: 640x640 15.7ms, 1 accident\n",
            "Speed: 62.6ms track, 15.7ms solution per image at shape (1, 3, 640, 640)\n",
            "\n",
            "Heatmap saved to: /content/heatmap_output_images2/heatmap_download (1).jpg\n",
            "Processing image : images (20).jpg\n",
            "26: 640x640 18.1ms, 1 accident\n",
            "Speed: 78.4ms track, 18.1ms solution per image at shape (1, 3, 640, 640)\n",
            "\n",
            "Heatmap saved to: /content/heatmap_output_images2/heatmap_images (20).jpg\n",
            "Processing image : images (21).jpg\n",
            "27: 640x640 13.3ms, 1 accident\n",
            "Speed: 79.6ms track, 13.3ms solution per image at shape (1, 3, 640, 640)\n",
            "\n",
            "Heatmap saved to: /content/heatmap_output_images2/heatmap_images (21).jpg\n",
            "Processing image : images (22).jpg\n",
            "28: 640x640 12.2ms, 1 accident\n",
            "Speed: 71.1ms track, 12.2ms solution per image at shape (1, 3, 640, 640)\n",
            "\n",
            "Heatmap saved to: /content/heatmap_output_images2/heatmap_images (22).jpg\n",
            "Processing image : images (23).jpg\n",
            "29: 640x640 13.1ms, 1 accident\n",
            "Speed: 90.2ms track, 13.1ms solution per image at shape (1, 3, 640, 640)\n",
            "\n",
            "Heatmap saved to: /content/heatmap_output_images2/heatmap_images (23).jpg\n",
            "Processing image : images (24).jpg\n",
            "WARNING ⚠️ no tracks found!\n",
            "30: 640x640 1.0ms, \n",
            "Speed: 59.6ms track, 1.0ms solution per image at shape (1, 3, 640, 640)\n",
            "\n",
            "Heatmap saved to: /content/heatmap_output_images2/heatmap_images (24).jpg\n",
            "Processing image : download (2).jpg\n",
            "WARNING ⚠️ no tracks found!\n",
            "31: 640x640 0.7ms, \n",
            "Speed: 65.7ms track, 0.7ms solution per image at shape (1, 3, 640, 640)\n",
            "\n",
            "Heatmap saved to: /content/heatmap_output_images2/heatmap_download (2).jpg\n",
            "Processing image : images (25).jpg\n",
            "WARNING ⚠️ no tracks found!\n",
            "32: 640x640 0.7ms, \n",
            "Speed: 28.8ms track, 0.7ms solution per image at shape (1, 3, 640, 640)\n",
            "\n",
            "Heatmap saved to: /content/heatmap_output_images2/heatmap_images (25).jpg\n",
            "Processing image : images (26).jpg\n",
            "WARNING ⚠️ no tracks found!\n",
            "33: 640x640 0.7ms, \n",
            "Speed: 70.0ms track, 0.7ms solution per image at shape (1, 3, 640, 640)\n",
            "\n",
            "Heatmap saved to: /content/heatmap_output_images2/heatmap_images (26).jpg\n",
            "Processing image : images.png\n",
            "WARNING ⚠️ no tracks found!\n",
            "34: 640x640 0.6ms, \n",
            "Speed: 53.6ms track, 0.6ms solution per image at shape (1, 3, 640, 640)\n",
            "\n",
            "Heatmap saved to: /content/heatmap_output_images2/heatmap_images.png\n",
            "Processing image : images (27).jpg\n",
            "WARNING ⚠️ no tracks found!\n",
            "35: 640x640 0.9ms, \n",
            "Speed: 29.0ms track, 0.9ms solution per image at shape (1, 3, 640, 640)\n",
            "\n",
            "Heatmap saved to: /content/heatmap_output_images2/heatmap_images (27).jpg\n",
            "Processing image : images (28).jpg\n",
            "WARNING ⚠️ no tracks found!\n",
            "36: 640x640 0.6ms, \n",
            "Speed: 74.1ms track, 0.6ms solution per image at shape (1, 3, 640, 640)\n",
            "\n",
            "Heatmap saved to: /content/heatmap_output_images2/heatmap_images (28).jpg\n",
            "Processing image : images (29).jpg\n",
            "WARNING ⚠️ no tracks found!\n",
            "37: 640x640 1.0ms, \n",
            "Speed: 52.0ms track, 1.0ms solution per image at shape (1, 3, 640, 640)\n",
            "\n",
            "Heatmap saved to: /content/heatmap_output_images2/heatmap_images (29).jpg\n",
            "Processing image : images (30).jpg\n",
            "WARNING ⚠️ no tracks found!\n",
            "38: 640x640 0.6ms, \n",
            "Speed: 37.2ms track, 0.6ms solution per image at shape (1, 3, 640, 640)\n",
            "\n",
            "Heatmap saved to: /content/heatmap_output_images2/heatmap_images (30).jpg\n",
            "Processing image : download (3).jpg\n",
            "WARNING ⚠️ no tracks found!\n",
            "39: 640x640 0.6ms, \n",
            "Speed: 66.2ms track, 0.6ms solution per image at shape (1, 3, 640, 640)\n",
            "\n",
            "Heatmap saved to: /content/heatmap_output_images2/heatmap_download (3).jpg\n",
            "Processing image : download (4).jpg\n",
            "WARNING ⚠️ no tracks found!\n",
            "40: 640x640 0.7ms, \n",
            "Speed: 56.3ms track, 0.7ms solution per image at shape (1, 3, 640, 640)\n",
            "\n",
            "Heatmap saved to: /content/heatmap_output_images2/heatmap_download (4).jpg\n",
            "Processing image : images (31).jpg\n",
            "WARNING ⚠️ no tracks found!\n",
            "41: 640x640 0.6ms, \n",
            "Speed: 69.3ms track, 0.6ms solution per image at shape (1, 3, 640, 640)\n",
            "\n",
            "Heatmap saved to: /content/heatmap_output_images2/heatmap_images (31).jpg\n",
            "Processing image : images (32).jpg\n",
            "WARNING ⚠️ no tracks found!\n",
            "42: 640x640 1.3ms, \n",
            "Speed: 61.3ms track, 1.3ms solution per image at shape (1, 3, 640, 640)\n",
            "\n",
            "Heatmap saved to: /content/heatmap_output_images2/heatmap_images (32).jpg\n",
            "Processing image : images (33).jpg\n",
            "43: 640x640 10.4ms, 1 accident\n",
            "Speed: 78.9ms track, 10.4ms solution per image at shape (1, 3, 640, 640)\n",
            "\n",
            "Heatmap saved to: /content/heatmap_output_images2/heatmap_images (33).jpg\n",
            "Image processing has been successfully completed.\n"
          ]
        }
      ]
    },
    {
      "cell_type": "code",
      "source": [
        "from google.colab import drive\n",
        "drive.mount('/content/drive')"
      ],
      "metadata": {
        "colab": {
          "base_uri": "https://localhost:8080/"
        },
        "id": "xi-YwPaeiUdN",
        "outputId": "5a91797b-c18c-4998-cf6f-f8780ee3251f"
      },
      "execution_count": 9,
      "outputs": [
        {
          "output_type": "stream",
          "name": "stdout",
          "text": [
            "Mounted at /content/drive\n"
          ]
        }
      ]
    },
    {
      "cell_type": "code",
      "source": [
        "import shutil\n",
        "import os\n",
        "\n",
        "# Define the path to the folder you want to download\n",
        "folder_path = \"/content/heatmap_output_images2\"  # Replace with the actual path to your folder\n",
        "\n",
        "# Define the name for the zip file\n",
        "zip_filename = \"heatmap_output_images.zip\" # Replace with your desired zip file name\n",
        "\n",
        "# Create the zip file\n",
        "shutil.make_archive(zip_filename.replace(\".zip\", \"\"), 'zip', folder_path)\n",
        "\n",
        "print(f\"Folder '{folder_path}' has been zipped to '{zip_filename}'\")"
      ],
      "metadata": {
        "colab": {
          "base_uri": "https://localhost:8080/"
        },
        "id": "ibJJKRyRkC2V",
        "outputId": "d1d503b4-1e13-4357-a675-f159edf12a10"
      },
      "execution_count": 14,
      "outputs": [
        {
          "output_type": "stream",
          "name": "stdout",
          "text": [
            "Folder '/content/heatmap_output_images2' has been zipped to 'heatmap_output_images.zip'\n"
          ]
        }
      ]
    },
    {
      "cell_type": "code",
      "source": [
        "from ultralytics import YOLO\n",
        "import cv2\n",
        "import numpy as np\n",
        "import matplotlib.pyplot as plt\n",
        "from PIL import Image\n",
        "\n",
        "import warnings\n",
        "warnings.filterwarnings('ignore')\n",
        "warnings.simplefilter('ignore')\n",
        "plt.rcParams[\"figure.figsize\"] = [3.0, 3.0]\n"
      ],
      "metadata": {
        "id": "AvkdDzqjpYKX"
      },
      "execution_count": 21,
      "outputs": []
    },
    {
      "cell_type": "code",
      "source": [
        "from yolo_cam.eigen_cam import EigenCAM\n",
        "from yolo_cam.utils.image import show_cam_on_image, scale_cam_image"
      ],
      "metadata": {
        "id": "L8i4xc5DpYEc",
        "outputId": "f767c085-53ba-492c-afcf-4fa52edd95cd",
        "colab": {
          "base_uri": "https://localhost:8080/",
          "height": 331
        }
      },
      "execution_count": 22,
      "outputs": [
        {
          "output_type": "error",
          "ename": "ModuleNotFoundError",
          "evalue": "No module named 'yolo_cam'",
          "traceback": [
            "\u001b[0;31m---------------------------------------------------------------------------\u001b[0m",
            "\u001b[0;31mModuleNotFoundError\u001b[0m                       Traceback (most recent call last)",
            "\u001b[0;32m/tmp/ipython-input-2347183787.py\u001b[0m in \u001b[0;36m<cell line: 0>\u001b[0;34m()\u001b[0m\n\u001b[0;32m----> 1\u001b[0;31m \u001b[0;32mfrom\u001b[0m \u001b[0myolo_cam\u001b[0m\u001b[0;34m.\u001b[0m\u001b[0meigen_cam\u001b[0m \u001b[0;32mimport\u001b[0m \u001b[0mEigenCAM\u001b[0m\u001b[0;34m\u001b[0m\u001b[0;34m\u001b[0m\u001b[0m\n\u001b[0m\u001b[1;32m      2\u001b[0m \u001b[0;32mfrom\u001b[0m \u001b[0myolo_cam\u001b[0m\u001b[0;34m.\u001b[0m\u001b[0mutils\u001b[0m\u001b[0;34m.\u001b[0m\u001b[0mimage\u001b[0m \u001b[0;32mimport\u001b[0m \u001b[0mshow_cam_on_image\u001b[0m\u001b[0;34m,\u001b[0m \u001b[0mscale_cam_image\u001b[0m\u001b[0;34m\u001b[0m\u001b[0;34m\u001b[0m\u001b[0m\n",
            "\u001b[0;31mModuleNotFoundError\u001b[0m: No module named 'yolo_cam'",
            "",
            "\u001b[0;31m---------------------------------------------------------------------------\u001b[0;32m\nNOTE: If your import is failing due to a missing package, you can\nmanually install dependencies using either !pip or !apt.\n\nTo view examples of installing some common dependencies, click the\n\"Open Examples\" button below.\n\u001b[0;31m---------------------------------------------------------------------------\u001b[0m\n"
          ],
          "errorDetails": {
            "actions": [
              {
                "action": "open_url",
                "actionText": "Open Examples",
                "url": "/notebooks/snippets/importing_libraries.ipynb"
              }
            ]
          }
        }
      ]
    },
    {
      "cell_type": "code",
      "source": [
        "model = YOLO('/content/best.pt')\n",
        "model = model.cpu()\n",
        "img = cv2.imread('/content/img/images (12).jpg')\n",
        "img = cv2.resize(img, (640, 640))\n",
        "rgb_img = img.copy()\n",
        "img = np.float32(img) / 255\n",
        "target_layers =[model.model.model[-4]]\n",
        "cam = EigenCAM(model, target_layers,task='od')\n",
        "grayscale_cam = cam(rgb_img)[0, :, :]\n",
        "cam_image = show_cam_on_image(img, grayscale_cam, use_rgb=True)\n",
        "plt.imshow(cam_image)\n",
        "plt.show()"
      ],
      "metadata": {
        "id": "wkZYSFt4pX-x"
      },
      "execution_count": null,
      "outputs": []
    },
    {
      "cell_type": "code",
      "source": [
        "im = cv2.cvtColor(rgb_img, cv2.COLOR_RGB2BGR)\n",
        "Image.fromarray(np.hstack((im, cam_image)))"
      ],
      "metadata": {
        "id": "RB_P24guqE_t"
      },
      "execution_count": null,
      "outputs": []
    }
  ],
  "metadata": {
    "accelerator": "GPU",
    "colab": {
      "gpuType": "T4",
      "provenance": [],
      "include_colab_link": true
    },
    "kernelspec": {
      "display_name": "Python 3",
      "name": "python3"
    },
    "language_info": {
      "name": "python"
    }
  },
  "nbformat": 4,
  "nbformat_minor": 0
}